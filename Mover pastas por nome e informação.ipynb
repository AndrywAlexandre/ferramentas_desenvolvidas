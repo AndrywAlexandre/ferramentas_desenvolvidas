{
 "cells": [
  {
   "cell_type": "code",
   "execution_count": 1,
   "id": "1befcc51",
   "metadata": {},
   "outputs": [],
   "source": [
    "#importação de bibliotecas\n",
    "import os\n",
    "import shutil\n",
    "import PyPDF2\n",
    "import fitz\n",
    "import time  "
   ]
  },
  {
   "cell_type": "code",
   "execution_count": 2,
   "id": "12541818",
   "metadata": {},
   "outputs": [],
   "source": [
    "#definição do caminho das pastas\n",
    "pasta_origem=(r'C:\\Users\\pastaorigem')\n",
    "pdf=r\"C:\\Users\\\\pastapdf\"\n",
    "extrato=r\"C:\\Users\\pastaextrato\"\n",
    "outros=r\"C:\\Users\\pastaooutros\"\n",
    "excel=r\"C:\\Users\\pastaexcel\"\n",
    "txt=r\"C:\\Users\\pastatxt\"\n",
    "ret=r\"C:\\Users\\ret\"\n",
    "rem=r\"C:\\Users\\rem\"\n",
    "img=r\"C:\\Users\\pastaimg\""
   ]
  },
  {
   "cell_type": "code",
   "execution_count": 3,
   "id": "6a19defd",
   "metadata": {},
   "outputs": [],
   "source": [
    "#função onde abre o arquivo pdf e faz a leitura dele e busca por uma palavra ou frase especifica\n",
    "def extrair_texto_pdf(arquivo_pdf, extrato):\n",
    "    texto_pdf = \"\"\n",
    "    \n",
    "    pdf_document = fitz.open(arquivo_pdf)\n",
    "    \n",
    "    try:\n",
    "        for page_num in range(len(pdf_document)):\n",
    "            page = pdf_document[page_num]\n",
    "            texto_pdf += page.get_text()\n",
    "    except Exception as e:\n",
    "        if \"encrypted\" in str(e):\n",
    "            return \"Não é um extrato\"  # Retorna \"Não é um extrato\" se o documento estiver criptografado\n",
    "    finally:\n",
    "        pdf_document.close()\n",
    "    \n",
    "    if extrato in texto_pdf:\n",
    "        return 'É um extrato'\n",
    "    else:\n",
    "        return 'Não é um extrato'\n",
    "\n"
   ]
  },
  {
   "cell_type": "code",
   "execution_count": 17,
   "id": "781b86be",
   "metadata": {},
   "outputs": [],
   "source": [
    "# Use o método listdir para listar todos os arquivos no diretório\n",
    "arquivos = os.listdir(pasta_origem)\n",
    "\n",
    "# Agora, a variável 'arquivos' conterá uma lista de todos os nomes de arquivos na pasta\n",
    "# Você pode iterar sobre essa lista para realizar ações em cada arquivo\n",
    "for arquivo in arquivos:\n",
    "    print(arquivo)"
   ]
  },
  {
   "cell_type": "code",
   "execution_count": 16,
   "id": "6c578745",
   "metadata": {
    "scrolled": true
   },
   "outputs": [],
   "source": [
    "# Listar todos os arquivos no diretório\n",
    "arquivos = os.listdir(pasta_origem)\n",
    "\n",
    "# Iterar sobre os arquivos\n",
    "for arquivo in arquivos:\n",
    "    # Obter a extensão do arquivo\n",
    "    extensao = os.path.splitext(arquivo)[-1].lower()\n",
    "    \n",
    "    # Verificar a extensão do arquivo e mover para o diretório apropriado\n",
    "    if extensao == '.pdf':\n",
    "        a = extrair_texto_pdf(os.path.join(pasta_origem, arquivo), \"extrato\")\n",
    "        tentativas = 0\n",
    "\n",
    "        while tentativas < 5:\n",
    "            try:\n",
    "                if a == \"É um extrato\":\n",
    "                    os.rename(os.path.join(pasta_origem, arquivo), os.path.join(extrato, arquivo))\n",
    "                else:\n",
    "                    os.rename(os.path.join(pasta_origem, arquivo), os.path.join(pdf, arquivo))\n",
    "               \n",
    "                break\n",
    "            except PermissionError:\n",
    "                time.sleep(1)  # Espera 1 segundo e tenta novamente\n",
    "                tentativas += 1\n",
    "                \n",
    "    elif extensao == '.txt':\n",
    "        os.rename(os.path.join(pasta_origem, arquivo), os.path.join(txt, arquivo))\n",
    "                              \n",
    "                              \n",
    "    elif extensao == '.xlsx' or extensao == '.xls':\n",
    "        os.rename(os.path.join(pasta_origem, arquivo), os.path.join(excel, arquivo))\n",
    "        \n",
    "        \n",
    "    elif extensao == '.jpeg' or extensao == '.png':\n",
    "        os.rename(os.path.join(pasta_origem, arquivo), os.path.join(img, arquivo))\n",
    "        \n",
    "    elif extensao == '.REM' :\n",
    "        os.rename(os.path.join(pasta_origem, arquivo), os.path.join(rem, arquivo))\n",
    "       \n",
    "                              \n",
    "    elif extensao == '.RET' :\n",
    "        os.rename(os.path.join(pasta_origem, arquivo), os.path.join(ret, arquivo))\n",
    "    \n",
    "    else:\n",
    "        os.rename(os.path.join(pasta_origem, arquivo), os.path.join(outros, arquivo))\n",
    "       "
   ]
  }
 ],
 "metadata": {
  "kernelspec": {
   "display_name": "Python 3 (ipykernel)",
   "language": "python",
   "name": "python3"
  },
  "language_info": {
   "codemirror_mode": {
    "name": "ipython",
    "version": 3
   },
   "file_extension": ".py",
   "mimetype": "text/x-python",
   "name": "python",
   "nbconvert_exporter": "python",
   "pygments_lexer": "ipython3",
   "version": "3.11.4"
  }
 },
 "nbformat": 4,
 "nbformat_minor": 5
}
